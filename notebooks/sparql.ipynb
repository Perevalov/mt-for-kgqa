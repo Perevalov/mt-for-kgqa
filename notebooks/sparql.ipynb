{
 "cells": [
  {
   "cell_type": "code",
   "execution_count": 1,
   "id": "75bf8e70-b0b5-4cfa-ae9a-ecc6e0369c5b",
   "metadata": {},
   "outputs": [],
   "source": [
    "from SPARQLWrapper import SPARQLWrapper, JSON"
   ]
  },
  {
   "cell_type": "code",
   "execution_count": 2,
   "id": "53862192-d969-453e-acbf-c114804d981a",
   "metadata": {},
   "outputs": [],
   "source": [
    "dbpedia_query = \"\"\"\n",
    "PREFIX rdf: <http://www.w3.org/1999/02/22-rdf-syntax-ns#>\n",
    "PREFIX dbr: <http://dbpedia.org/resource/>\n",
    "PREFIX dbo: <http://dbpedia.org/ontology/> \n",
    "\n",
    "SELECT DISTINCT ?city \n",
    "WHERE { \n",
    "    ?city dbo:country dbr:Nepal . # object located in Nepal\n",
    "    ?city rdf:type dbo:City . # type City\n",
    "}\n",
    "LIMIT 1\n",
    "\"\"\"\n",
    "dbpedia_endpoint = \"https://dbpedia.org/sparql\""
   ]
  },
  {
   "cell_type": "code",
   "execution_count": 3,
   "id": "c8a19e25-bf28-4b3f-b168-c8d46a93c02c",
   "metadata": {},
   "outputs": [],
   "source": [
    "sparql = SPARQLWrapper(dbpedia_endpoint)\n",
    "sparql.setQuery(dbpedia_query)\n",
    "sparql.setReturnFormat(JSON)\n",
    "response = sparql.query().convert()"
   ]
  },
  {
   "cell_type": "code",
   "execution_count": 4,
   "id": "3e3b1352-1268-4a96-8b37-97b6e422c465",
   "metadata": {},
   "outputs": [
    {
     "data": {
      "text/plain": [
       "{'head': {'link': [], 'vars': ['city']},\n",
       " 'results': {'distinct': False,\n",
       "  'ordered': True,\n",
       "  'bindings': [{'city': {'type': 'uri',\n",
       "     'value': 'http://dbpedia.org/resource/Bangla,_Nepal'}}]}}"
      ]
     },
     "execution_count": 4,
     "metadata": {},
     "output_type": "execute_result"
    }
   ],
   "source": [
    "response"
   ]
  },
  {
   "cell_type": "code",
   "execution_count": null,
   "id": "398b32c9-2dda-45a1-869b-6be0c7d1f072",
   "metadata": {},
   "outputs": [],
   "source": []
  }
 ],
 "metadata": {
  "kernelspec": {
   "display_name": "Python 3 (ipykernel)",
   "language": "python",
   "name": "python3"
  },
  "language_info": {
   "codemirror_mode": {
    "name": "ipython",
    "version": 3
   },
   "file_extension": ".py",
   "mimetype": "text/x-python",
   "name": "python",
   "nbconvert_exporter": "python",
   "pygments_lexer": "ipython3",
   "version": "3.8.10"
  }
 },
 "nbformat": 4,
 "nbformat_minor": 5
}
