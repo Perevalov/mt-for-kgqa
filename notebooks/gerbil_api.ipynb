{
 "cells": [
  {
   "cell_type": "code",
   "execution_count": 1,
   "id": "8340a8b6-5892-4011-a240-c6c777bfc66d",
   "metadata": {},
   "outputs": [],
   "source": [
    "import urllib\n",
    "import json\n",
    "import requests\n",
    "import time\n",
    "headers = {'Content-Type': 'multipart/form-data'}"
   ]
  },
  {
   "cell_type": "code",
   "execution_count": 3,
   "id": "44fe935d-23db-4542-95a3-5734ce848fba",
   "metadata": {},
   "outputs": [],
   "source": [
    "def read_json(filename):\n",
    "    with open(filename) as f:\n",
    "        return json.load(f)\n",
    "    \n",
    "def write_json(data, filename):\n",
    "    with open(filename, 'w') as f:\n",
    "        json.dump(data, f, ensure_ascii=False, indent=4)\n",
    "        \n",
    "def get_tgt_langs(filename):\n",
    "    data = read_json(filename)\n",
    "    tgt_langs = list()\n",
    "    for q in data['questions']:\n",
    "        for l in q['question']:\n",
    "            if l['language'] not in tgt_langs:\n",
    "                tgt_langs.append(l['language'])\n",
    "        break\n",
    "    return tgt_langs"
   ]
  },
  {
   "cell_type": "code",
   "execution_count": 4,
   "id": "6d97ce1d-9075-4ae9-83bc-00a04d3829d0",
   "metadata": {},
   "outputs": [],
   "source": [
    "url_postfix = \"\"\"experimentData={{\"type\":\"QA\",\"matching\":\"STRONG_ENTITY_MATCH\",\"annotator\":[\"{annotator}\"],\"dataset\":[\"{dataset}\"],\"answerFiles\":[],\"questionLanguage\":\"{lang}\"}}\"\"\"\n",
    "\n",
    "dataset_dict = {\n",
    "    #'English': 'en',\n",
    "    #'German': 'de',\n",
    "    #'Russian': 'ru',\n",
    "    'Bashkir': 'ba',\n",
    "    'Lithuanian': 'lt',\n",
    "    'Ukrainian': 'uk',\n",
    "    'Belarusian': 'be',\n",
    "    #'Armenian': 'arm',\n",
    "    'French': 'fr'\n",
    "}\n",
    "\n",
    "annotators = [\n",
    "    'QAnswer',\n",
    "    'DeepPavlov',\n",
    "    'Platypus'\n",
    "]"
   ]
  },
  {
   "cell_type": "code",
   "execution_count": 5,
   "id": "6e0197cd-584d-4479-9f0c-8d4b4876034b",
   "metadata": {},
   "outputs": [
    {
     "name": "stdout",
     "output_type": "stream",
     "text": [
      "NIFWS_QAnswer(https://webengineering.ins.hs-anhalt.de:41021/qanswer/gerbil_wikidata) Bashkir en http://gerbil-qa.aksw.org/gerbil/experiment?id=202111150035\n",
      "NIFWS_QAnswer(https://webengineering.ins.hs-anhalt.de:41021/qanswer/gerbil_wikidata) Bashkir de http://gerbil-qa.aksw.org/gerbil/experiment?id=202111150036\n",
      "NIFWS_QAnswer(https://webengineering.ins.hs-anhalt.de:41021/qanswer/gerbil_wikidata) Bashkir ru http://gerbil-qa.aksw.org/gerbil/experiment?id=202111150037\n",
      "NIFWS_QAnswer(https://webengineering.ins.hs-anhalt.de:41021/qanswer/gerbil_wikidata) Bashkir fr http://gerbil-qa.aksw.org/gerbil/experiment?id=202111150038\n",
      "NIFWS_QAnswer(https://webengineering.ins.hs-anhalt.de:41021/qanswer/gerbil_wikidata) Lithuanian en http://gerbil-qa.aksw.org/gerbil/experiment?id=202111150039\n",
      "NIFWS_QAnswer(https://webengineering.ins.hs-anhalt.de:41021/qanswer/gerbil_wikidata) Lithuanian de http://gerbil-qa.aksw.org/gerbil/experiment?id=202111150040\n",
      "NIFWS_QAnswer(https://webengineering.ins.hs-anhalt.de:41021/qanswer/gerbil_wikidata) Lithuanian ru http://gerbil-qa.aksw.org/gerbil/experiment?id=202111150041\n",
      "NIFWS_QAnswer(https://webengineering.ins.hs-anhalt.de:41021/qanswer/gerbil_wikidata) Lithuanian fr http://gerbil-qa.aksw.org/gerbil/experiment?id=202111150042\n",
      "NIFWS_QAnswer(https://webengineering.ins.hs-anhalt.de:41021/qanswer/gerbil_wikidata) Ukrainian en http://gerbil-qa.aksw.org/gerbil/experiment?id=202111150043\n",
      "NIFWS_QAnswer(https://webengineering.ins.hs-anhalt.de:41021/qanswer/gerbil_wikidata) Ukrainian de http://gerbil-qa.aksw.org/gerbil/experiment?id=202111150044\n",
      "NIFWS_QAnswer(https://webengineering.ins.hs-anhalt.de:41021/qanswer/gerbil_wikidata) Ukrainian ru http://gerbil-qa.aksw.org/gerbil/experiment?id=202111150045\n",
      "NIFWS_QAnswer(https://webengineering.ins.hs-anhalt.de:41021/qanswer/gerbil_wikidata) Ukrainian fr http://gerbil-qa.aksw.org/gerbil/experiment?id=202111150046\n",
      "NIFWS_QAnswer(https://webengineering.ins.hs-anhalt.de:41021/qanswer/gerbil_wikidata) Belarusian en http://gerbil-qa.aksw.org/gerbil/experiment?id=202111150047\n",
      "NIFWS_QAnswer(https://webengineering.ins.hs-anhalt.de:41021/qanswer/gerbil_wikidata) Belarusian de http://gerbil-qa.aksw.org/gerbil/experiment?id=202111150048\n",
      "NIFWS_QAnswer(https://webengineering.ins.hs-anhalt.de:41021/qanswer/gerbil_wikidata) Belarusian ru http://gerbil-qa.aksw.org/gerbil/experiment?id=202111150049\n",
      "NIFWS_QAnswer(https://webengineering.ins.hs-anhalt.de:41021/qanswer/gerbil_wikidata) Belarusian fr http://gerbil-qa.aksw.org/gerbil/experiment?id=202111150050\n",
      "NIFWS_QAnswer(https://webengineering.ins.hs-anhalt.de:41021/qanswer/gerbil_wikidata) French en http://gerbil-qa.aksw.org/gerbil/experiment?id=202111150051\n",
      "NIFWS_QAnswer(https://webengineering.ins.hs-anhalt.de:41021/qanswer/gerbil_wikidata) French de http://gerbil-qa.aksw.org/gerbil/experiment?id=202111150052\n",
      "NIFWS_QAnswer(https://webengineering.ins.hs-anhalt.de:41021/qanswer/gerbil_wikidata) French ru http://gerbil-qa.aksw.org/gerbil/experiment?id=202111150053\n",
      "NIFWS_DeepPavlov(https://webengineering.ins.hs-anhalt.de:41021/deeppavlov/gerbil_wikidata) Bashkir en http://gerbil-qa.aksw.org/gerbil/experiment?id=202111150054\n",
      "NIFWS_DeepPavlov(https://webengineering.ins.hs-anhalt.de:41021/deeppavlov/gerbil_wikidata) Bashkir ru http://gerbil-qa.aksw.org/gerbil/experiment?id=202111150055\n",
      "NIFWS_DeepPavlov(https://webengineering.ins.hs-anhalt.de:41021/deeppavlov/gerbil_wikidata) Lithuanian en http://gerbil-qa.aksw.org/gerbil/experiment?id=202111150056\n",
      "NIFWS_DeepPavlov(https://webengineering.ins.hs-anhalt.de:41021/deeppavlov/gerbil_wikidata) Lithuanian ru http://gerbil-qa.aksw.org/gerbil/experiment?id=202111150057\n",
      "NIFWS_DeepPavlov(https://webengineering.ins.hs-anhalt.de:41021/deeppavlov/gerbil_wikidata) Ukrainian en http://gerbil-qa.aksw.org/gerbil/experiment?id=202111150058\n",
      "NIFWS_DeepPavlov(https://webengineering.ins.hs-anhalt.de:41021/deeppavlov/gerbil_wikidata) Ukrainian ru http://gerbil-qa.aksw.org/gerbil/experiment?id=202111150059\n",
      "NIFWS_DeepPavlov(https://webengineering.ins.hs-anhalt.de:41021/deeppavlov/gerbil_wikidata) Belarusian en http://gerbil-qa.aksw.org/gerbil/experiment?id=202111150060\n",
      "NIFWS_DeepPavlov(https://webengineering.ins.hs-anhalt.de:41021/deeppavlov/gerbil_wikidata) Belarusian ru http://gerbil-qa.aksw.org/gerbil/experiment?id=202111150061\n",
      "NIFWS_DeepPavlov(https://webengineering.ins.hs-anhalt.de:41021/deeppavlov/gerbil_wikidata) French en http://gerbil-qa.aksw.org/gerbil/experiment?id=202111150062\n",
      "NIFWS_DeepPavlov(https://webengineering.ins.hs-anhalt.de:41021/deeppavlov/gerbil_wikidata) French ru http://gerbil-qa.aksw.org/gerbil/experiment?id=202111150063\n",
      "NIFWS_Platypus(https://webengineering.ins.hs-anhalt.de:41021/platypus/gerbil_wikidata) Bashkir en http://gerbil-qa.aksw.org/gerbil/experiment?id=202111150064\n",
      "NIFWS_Platypus(https://webengineering.ins.hs-anhalt.de:41021/platypus/gerbil_wikidata) Bashkir fr http://gerbil-qa.aksw.org/gerbil/experiment?id=202111150065\n",
      "NIFWS_Platypus(https://webengineering.ins.hs-anhalt.de:41021/platypus/gerbil_wikidata) Lithuanian en http://gerbil-qa.aksw.org/gerbil/experiment?id=202111150066\n",
      "NIFWS_Platypus(https://webengineering.ins.hs-anhalt.de:41021/platypus/gerbil_wikidata) Lithuanian fr http://gerbil-qa.aksw.org/gerbil/experiment?id=202111150067\n",
      "NIFWS_Platypus(https://webengineering.ins.hs-anhalt.de:41021/platypus/gerbil_wikidata) Ukrainian en http://gerbil-qa.aksw.org/gerbil/experiment?id=202111150068\n",
      "NIFWS_Platypus(https://webengineering.ins.hs-anhalt.de:41021/platypus/gerbil_wikidata) Ukrainian fr http://gerbil-qa.aksw.org/gerbil/experiment?id=202111150069\n",
      "NIFWS_Platypus(https://webengineering.ins.hs-anhalt.de:41021/platypus/gerbil_wikidata) Belarusian en http://gerbil-qa.aksw.org/gerbil/experiment?id=202111150070\n",
      "NIFWS_Platypus(https://webengineering.ins.hs-anhalt.de:41021/platypus/gerbil_wikidata) Belarusian fr http://gerbil-qa.aksw.org/gerbil/experiment?id=202111150071\n",
      "NIFWS_Platypus(https://webengineering.ins.hs-anhalt.de:41021/platypus/gerbil_wikidata) French en http://gerbil-qa.aksw.org/gerbil/experiment?id=202111150072\n"
     ]
    }
   ],
   "source": [
    "for annotator_ in annotators:\n",
    "    annotator = \"NIFWS_{0}(https://webengineering.ins.hs-anhalt.de:41021/{1}/gerbil_wikidata)\".format(annotator_, annotator_.lower())\n",
    "    for src_lang, code in zip(dataset_dict.keys(), dataset_dict.values()):\n",
    "        dataset_name = \"NIFDS_QALD++Test+{0}+HelsinkiNLP(qald_test_wikidata-helsinki-{1}.json)\".format(src_lang, code)\n",
    "        for lang in get_tgt_langs(f\"../data/translated/qald_test_wikidata-yandex-{code}.json\"):\n",
    "            if annotator_ == 'DeepPavlov' and (lang != 'ru' and lang != 'en'):\n",
    "                continue\n",
    "            if annotator_ == 'Platypus' and (lang != 'fr' and lang != 'en'):\n",
    "                continue\n",
    "                \n",
    "            execute_url = \"http://gerbil-qa.aksw.org/gerbil/execute?\" + url_postfix.format(\n",
    "                annotator=annotator,\n",
    "                dataset=dataset_name,\n",
    "                lang=lang\n",
    "            )\n",
    "            is_ok = False\n",
    "            while not is_ok:\n",
    "                try:\n",
    "                    if requests.get(\"http://gerbil-qa.aksw.org/gerbil/running\").text == '':\n",
    "                        response = requests.get(execute_url)\n",
    "                        print(annotator, src_lang, lang, \"http://gerbil-qa.aksw.org/gerbil/experiment?id={0}\".format(response.text))\n",
    "                        is_ok = True\n",
    "                    else:\n",
    "                        time.sleep(60)\n",
    "                except:\n",
    "                    time.sleep(60)"
   ]
  },
  {
   "cell_type": "markdown",
   "id": "b61766ce-17ac-473f-bdfb-46a73b732e78",
   "metadata": {},
   "source": [
    "# Native Language"
   ]
  },
  {
   "cell_type": "code",
   "execution_count": 10,
   "id": "8808c429-c79f-4600-b7c6-db8ac3cfa542",
   "metadata": {},
   "outputs": [],
   "source": [
    "url_postfix = \"\"\"experimentData={{\"type\":\"QA\",\"matching\":\"STRONG_ENTITY_MATCH\",\"annotator\":[\"{annotator}\"],\"dataset\":[\"{dataset}\"],\"answerFiles\":[],\"questionLanguage\":\"{lang}\"}}\"\"\"\n",
    "\n",
    "native_langs = ['de', 'ru', 'fr'] #['en', 'de', 'ru', 'fr']\n",
    "annotators = ['QAnswer'] # , 'DeepPavlov', 'Platypus']\n",
    "kb = 'DBpedia'"
   ]
  },
  {
   "cell_type": "code",
   "execution_count": 11,
   "id": "6a44896f-1021-4ed4-a3e7-b65732b09790",
   "metadata": {},
   "outputs": [
    {
     "name": "stdout",
     "output_type": "stream",
     "text": [
      "NIFDS_QALDNine+Test+DBpedia(qald_test_dbpedia.json)\n",
      "NIFWS_QAnswer(https://webengineering.ins.hs-anhalt.de:41021/qanswer/gerbil_dbpedia) de http://gerbil-qa.aksw.org/gerbil/experiment?id=202112190016\n",
      "NIFDS_QALDNine+Test+DBpedia(qald_test_dbpedia.json)\n",
      "NIFWS_QAnswer(https://webengineering.ins.hs-anhalt.de:41021/qanswer/gerbil_dbpedia) ru http://gerbil-qa.aksw.org/gerbil/experiment?id=202112190017\n",
      "NIFDS_QALDNine+Test+DBpedia(qald_test_dbpedia.json)\n",
      "NIFWS_QAnswer(https://webengineering.ins.hs-anhalt.de:41021/qanswer/gerbil_dbpedia) fr http://gerbil-qa.aksw.org/gerbil/experiment?id=202112190018\n",
      "NIFDS_QALDNine+Train+DBpedia(qald_train_dbpedia.json)\n",
      "NIFWS_QAnswer(https://webengineering.ins.hs-anhalt.de:41021/qanswer/gerbil_dbpedia) de http://gerbil-qa.aksw.org/gerbil/experiment?id=202112190019\n",
      "NIFDS_QALDNine+Train+DBpedia(qald_train_dbpedia.json)\n",
      "NIFWS_QAnswer(https://webengineering.ins.hs-anhalt.de:41021/qanswer/gerbil_dbpedia) ru http://gerbil-qa.aksw.org/gerbil/experiment?id=202112190020\n",
      "NIFDS_QALDNine+Train+DBpedia(qald_train_dbpedia.json)\n",
      "NIFWS_QAnswer(https://webengineering.ins.hs-anhalt.de:41021/qanswer/gerbil_dbpedia) fr http://gerbil-qa.aksw.org/gerbil/experiment?id=202112190021\n"
     ]
    }
   ],
   "source": [
    "# QALDNine Test Wikidata\n",
    "for split in ['Test', 'Train']:\n",
    "    for annotator_ in annotators:\n",
    "        annotator = \"NIFWS_{0}(https://webengineering.ins.hs-anhalt.de:41021/{1}/gerbil_{2})\".format(annotator_, annotator_.lower(), kb.lower())\n",
    "        for lang in native_langs:\n",
    "            if annotator_ == 'DeepPavlov' and (lang != 'ru' and lang != 'en'):\n",
    "                continue\n",
    "            if annotator_ == 'Platypus' and (lang != 'fr' and lang != 'en'):\n",
    "                continue\n",
    "\n",
    "            dataset_name = f\"NIFDS_QALDNine+{split}+{kb}(qald_{split.lower()}_{kb.lower()}.json)\"\n",
    "            execute_url = \"http://gerbil-qa.aksw.org/gerbil/execute?\" + url_postfix.format(\n",
    "                annotator=annotator,\n",
    "                dataset=dataset_name,\n",
    "                lang=lang\n",
    "            )\n",
    "            is_ok = False\n",
    "            while not is_ok:\n",
    "                try:\n",
    "                    if 'QALDPlus' not in requests.get(\"http://gerbil-qa.aksw.org/gerbil/running\").text:\n",
    "                        print(dataset_name)\n",
    "                        response = requests.get(execute_url)\n",
    "                        print(annotator, lang, \"http://gerbil-qa.aksw.org/gerbil/experiment?id={0}\".format(response.text))\n",
    "                        is_ok = True\n",
    "                    else:\n",
    "                        print(\"sleep\")\n",
    "                        time.sleep(60)\n",
    "                except Exception as e:\n",
    "                    print(str(e))\n",
    "                    time.sleep(60)"
   ]
  },
  {
   "cell_type": "code",
   "execution_count": null,
   "id": "8ce1aeac-04bc-4065-9a4d-59aee08f83af",
   "metadata": {},
   "outputs": [],
   "source": []
  }
 ],
 "metadata": {
  "kernelspec": {
   "display_name": "Python 3 (ipykernel)",
   "language": "python",
   "name": "python3"
  },
  "language_info": {
   "codemirror_mode": {
    "name": "ipython",
    "version": 3
   },
   "file_extension": ".py",
   "mimetype": "text/x-python",
   "name": "python",
   "nbconvert_exporter": "python",
   "pygments_lexer": "ipython3",
   "version": "3.8.10"
  }
 },
 "nbformat": 4,
 "nbformat_minor": 5
}
