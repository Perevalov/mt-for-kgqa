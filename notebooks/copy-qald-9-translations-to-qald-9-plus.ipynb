{
 "cells": [
  {
   "cell_type": "code",
   "execution_count": 1,
   "id": "e662fa48-b18c-47e2-9b2a-bde15555d972",
   "metadata": {},
   "outputs": [],
   "source": [
    "import json"
   ]
  },
  {
   "cell_type": "code",
   "execution_count": 2,
   "id": "326082ad-2b11-45c8-b701-68e4fd56ca0a",
   "metadata": {},
   "outputs": [],
   "source": [
    "def read_json(filename):\n",
    "    with open(filename) as f:\n",
    "        return json.load(f)\n",
    "    \n",
    "def write_json(data, filename):\n",
    "    with open(filename, 'w') as f:\n",
    "        json.dump(data, f, ensure_ascii=False, indent=4)\n",
    "        \n",
    "def get_tgt_langs(filename):\n",
    "    data = read_json(filename)\n",
    "    tgt_langs = list()\n",
    "    for q in data['questions']:\n",
    "        for l in q['question']:\n",
    "            if l['language'] not in tgt_langs:\n",
    "                tgt_langs.append(l['language'])\n",
    "        break\n",
    "    return tgt_langs\n",
    "\n",
    "def find_by_id(uid, data):\n",
    "    for d in data:\n",
    "        if d['id'] == uid:\n",
    "            return d\n",
    "    return None"
   ]
  },
  {
   "cell_type": "code",
   "execution_count": 4,
   "id": "b2a4f8e7-d130-4fe6-b598-fb8762f4dc17",
   "metadata": {},
   "outputs": [],
   "source": [
    "test = read_json(\"/home/ins-alex/qald_plus/data/qald_test_wikidata.json\")\n",
    "train = read_json(\"/home/ins-alex/qald_plus/data/qald_train_wikidata.json\")\n",
    "\n",
    "test_original = read_json(\"../data/qald-9-test-multilingual.json\")\n",
    "train_original = read_json(\"../data/qald-9-train-multilingual.json\")"
   ]
  },
  {
   "cell_type": "code",
   "execution_count": 5,
   "id": "81bce35b-5f3b-489a-8ef4-960027dc2287",
   "metadata": {},
   "outputs": [],
   "source": [
    "for d, orig in zip([test, train], [test_original, train_original]):\n",
    "    for q in test['questions']:\n",
    "        q_original = find_by_id(q['id'], test_original['questions'])\n",
    "        assert q_original != None\n",
    "\n",
    "        q['question'] = q_original['question']"
   ]
  },
  {
   "cell_type": "code",
   "execution_count": 6,
   "id": "2592d148-5ca3-4a05-b5a1-9f11723bec8e",
   "metadata": {},
   "outputs": [],
   "source": [
    "write_json(test, \"../data/processed/test-wikidata-qald-9-plus-with-qald-9-translations.json\")\n",
    "write_json(train, \"../data/processed/train-wikidata-qald-9-plus-with-qald-9-translations.json\")"
   ]
  },
  {
   "cell_type": "code",
   "execution_count": null,
   "id": "a25ad97d-93f5-4722-8062-b2bb7aff3b61",
   "metadata": {},
   "outputs": [],
   "source": []
  }
 ],
 "metadata": {
  "kernelspec": {
   "display_name": "Python 3 (ipykernel)",
   "language": "python",
   "name": "python3"
  },
  "language_info": {
   "codemirror_mode": {
    "name": "ipython",
    "version": 3
   },
   "file_extension": ".py",
   "mimetype": "text/x-python",
   "name": "python",
   "nbconvert_exporter": "python",
   "pygments_lexer": "ipython3",
   "version": "3.8.10"
  }
 },
 "nbformat": 4,
 "nbformat_minor": 5
}
