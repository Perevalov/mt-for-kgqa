{
 "cells": [
  {
   "cell_type": "code",
   "execution_count": 3,
   "id": "3c2062aa-3d26-41d4-a2e5-00aaa2c7eacc",
   "metadata": {},
   "outputs": [],
   "source": [
    "import json"
   ]
  },
  {
   "cell_type": "code",
   "execution_count": 4,
   "id": "386deade-ae9e-431a-bfa0-4a7056cce118",
   "metadata": {},
   "outputs": [],
   "source": [
    "def save_json(filename, data):\n",
    "    \"\"\"save json\"\"\"\n",
    "    with open(filename, 'w') as f:\n",
    "        json.dump(data, f, indent=4, ensure_ascii=False)\n",
    "        \n",
    "def read_json(filename):\n",
    "    with open(filename, 'r') as f:\n",
    "        return json.load(f)\n",
    "    \n",
    "def show_stats(data):\n",
    "    lang_dict = dict()\n",
    "    for q in data['questions']:\n",
    "        for lang in q['question']:\n",
    "            if lang['language'] not in lang_dict.keys():\n",
    "                lang_dict[lang['language']] = [lang]\n",
    "            else:\n",
    "                lang_dict[lang['language']].append(lang)\n",
    "                \n",
    "    for k, v in lang_dict.items():\n",
    "        print(k, len(v))"
   ]
  },
  {
   "cell_type": "markdown",
   "id": "de0020b6-a74c-41c7-a853-4efc8bae353e",
   "metadata": {},
   "source": [
    "## Number of translations per language\n",
    "\n",
    "We use DBpedia set because there are all the questions presented (558)"
   ]
  },
  {
   "cell_type": "code",
   "execution_count": 5,
   "id": "63f409fc-b37a-4d36-8fe4-352ee22e5c01",
   "metadata": {},
   "outputs": [],
   "source": [
    "test = read_json(\"../data/qald_test_dbpedia.json\")\n",
    "train = read_json(\"../data/qald_train_dbpedia.json\")"
   ]
  },
  {
   "cell_type": "code",
   "execution_count": 6,
   "id": "067d7646-1ca7-4e67-9a38-6e17c756d71b",
   "metadata": {},
   "outputs": [
    {
     "name": "stdout",
     "output_type": "stream",
     "text": [
      "en 408\n",
      "de 543\n",
      "ru 1203\n",
      "lt 468\n",
      "uk 447\n",
      "fr 260\n",
      "be 441\n",
      "ba 284\n",
      "hy 80\n"
     ]
    }
   ],
   "source": [
    "show_stats(train)"
   ]
  },
  {
   "cell_type": "code",
   "execution_count": 7,
   "id": "3d250ffc-8840-4707-a125-90f3e9e7a380",
   "metadata": {},
   "outputs": [
    {
     "name": "stdout",
     "output_type": "stream",
     "text": [
      "en 150\n",
      "de 176\n",
      "ru 348\n",
      "uk 176\n",
      "lt 186\n",
      "be 155\n",
      "ba 117\n",
      "hy 20\n",
      "fr 26\n"
     ]
    }
   ],
   "source": [
    "show_stats(test)"
   ]
  },
  {
   "cell_type": "code",
   "execution_count": null,
   "id": "4733f145-b901-4e70-abc7-949c64e692ec",
   "metadata": {},
   "outputs": [],
   "source": [
    " "
   ]
  }
 ],
 "metadata": {
  "kernelspec": {
   "display_name": "Python 3 (ipykernel)",
   "language": "python",
   "name": "python3"
  },
  "language_info": {
   "codemirror_mode": {
    "name": "ipython",
    "version": 3
   },
   "file_extension": ".py",
   "mimetype": "text/x-python",
   "name": "python",
   "nbconvert_exporter": "python",
   "pygments_lexer": "ipython3",
   "version": "3.8.10"
  }
 },
 "nbformat": 4,
 "nbformat_minor": 5
}
